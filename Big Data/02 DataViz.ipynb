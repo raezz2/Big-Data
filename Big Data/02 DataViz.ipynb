{
 "cells": [
  {
   "cell_type": "markdown",
   "id": "c65aa651",
   "metadata": {},
   "source": [
    "# # Data Visualization"
   ]
  },
  {
   "cell_type": "code",
   "execution_count": 1,
   "id": "4db2430d",
   "metadata": {},
   "outputs": [],
   "source": [
    "import pandas as pd\n",
    "import numpy as np\n",
    "import random as rd\n",
    "import matplotlib.pyplot as plt"
   ]
  },
  {
   "cell_type": "code",
   "execution_count": 2,
   "id": "d0cdb46c",
   "metadata": {},
   "outputs": [],
   "source": [
    "# inisialiasasi dataframe\n",
    "# 100 x 4 \n",
    "dc = {\n",
    "    'brand':[rd.choice(['Puma', 'Nike', 'Adidas']) for i in range(100)],\n",
    "    'price':[rd.choice(range(40000, 300000)) for i in range(100)],\n",
    "    'qty':[rd.choice(range(1,5)) for i in range(100)],\n",
    "    'month':[rd.choice(['1Jan', '2Feb', '3Mar', '4Apr', '5May', '6Jun', '7Jul']) for i in range(100)]\n",
    "}"
   ]
  },
  {
   "cell_type": "code",
   "execution_count": 3,
   "id": "8d24cb01",
   "metadata": {},
   "outputs": [],
   "source": [
    "df = pd.DataFrame(dc)"
   ]
  },
  {
   "cell_type": "code",
   "execution_count": 4,
   "id": "b025862b",
   "metadata": {},
   "outputs": [
    {
     "data": {
      "text/plain": [
       "(100, 4)"
      ]
     },
     "execution_count": 4,
     "metadata": {},
     "output_type": "execute_result"
    }
   ],
   "source": [
    "df.shape"
   ]
  },
  {
   "cell_type": "code",
   "execution_count": 5,
   "id": "a7dff5fa",
   "metadata": {},
   "outputs": [
    {
     "data": {
      "text/html": [
       "<div>\n",
       "<style scoped>\n",
       "    .dataframe tbody tr th:only-of-type {\n",
       "        vertical-align: middle;\n",
       "    }\n",
       "\n",
       "    .dataframe tbody tr th {\n",
       "        vertical-align: top;\n",
       "    }\n",
       "\n",
       "    .dataframe thead th {\n",
       "        text-align: right;\n",
       "    }\n",
       "</style>\n",
       "<table border=\"1\" class=\"dataframe\">\n",
       "  <thead>\n",
       "    <tr style=\"text-align: right;\">\n",
       "      <th></th>\n",
       "      <th>brand</th>\n",
       "      <th>price</th>\n",
       "      <th>qty</th>\n",
       "      <th>month</th>\n",
       "    </tr>\n",
       "  </thead>\n",
       "  <tbody>\n",
       "    <tr>\n",
       "      <th>0</th>\n",
       "      <td>Nike</td>\n",
       "      <td>142056</td>\n",
       "      <td>3</td>\n",
       "      <td>4Apr</td>\n",
       "    </tr>\n",
       "    <tr>\n",
       "      <th>1</th>\n",
       "      <td>Nike</td>\n",
       "      <td>178753</td>\n",
       "      <td>2</td>\n",
       "      <td>1Jan</td>\n",
       "    </tr>\n",
       "    <tr>\n",
       "      <th>2</th>\n",
       "      <td>Puma</td>\n",
       "      <td>232576</td>\n",
       "      <td>4</td>\n",
       "      <td>1Jan</td>\n",
       "    </tr>\n",
       "    <tr>\n",
       "      <th>3</th>\n",
       "      <td>Nike</td>\n",
       "      <td>151624</td>\n",
       "      <td>4</td>\n",
       "      <td>7Jul</td>\n",
       "    </tr>\n",
       "    <tr>\n",
       "      <th>4</th>\n",
       "      <td>Puma</td>\n",
       "      <td>50712</td>\n",
       "      <td>2</td>\n",
       "      <td>6Jun</td>\n",
       "    </tr>\n",
       "  </tbody>\n",
       "</table>\n",
       "</div>"
      ],
      "text/plain": [
       "  brand   price  qty month\n",
       "0  Nike  142056    3  4Apr\n",
       "1  Nike  178753    2  1Jan\n",
       "2  Puma  232576    4  1Jan\n",
       "3  Nike  151624    4  7Jul\n",
       "4  Puma   50712    2  6Jun"
      ]
     },
     "execution_count": 5,
     "metadata": {},
     "output_type": "execute_result"
    }
   ],
   "source": [
    "df.head()"
   ]
  },
  {
   "cell_type": "code",
   "execution_count": 6,
   "id": "46584818",
   "metadata": {},
   "outputs": [],
   "source": [
    "df['total'] = df.price * df.qty"
   ]
  },
  {
   "cell_type": "code",
   "execution_count": 7,
   "id": "4b52771e",
   "metadata": {},
   "outputs": [
    {
     "data": {
      "text/html": [
       "<div>\n",
       "<style scoped>\n",
       "    .dataframe tbody tr th:only-of-type {\n",
       "        vertical-align: middle;\n",
       "    }\n",
       "\n",
       "    .dataframe tbody tr th {\n",
       "        vertical-align: top;\n",
       "    }\n",
       "\n",
       "    .dataframe thead th {\n",
       "        text-align: right;\n",
       "    }\n",
       "</style>\n",
       "<table border=\"1\" class=\"dataframe\">\n",
       "  <thead>\n",
       "    <tr style=\"text-align: right;\">\n",
       "      <th></th>\n",
       "      <th>brand</th>\n",
       "      <th>price</th>\n",
       "      <th>qty</th>\n",
       "      <th>month</th>\n",
       "      <th>total</th>\n",
       "    </tr>\n",
       "  </thead>\n",
       "  <tbody>\n",
       "    <tr>\n",
       "      <th>0</th>\n",
       "      <td>Nike</td>\n",
       "      <td>142056</td>\n",
       "      <td>3</td>\n",
       "      <td>4Apr</td>\n",
       "      <td>426168</td>\n",
       "    </tr>\n",
       "    <tr>\n",
       "      <th>1</th>\n",
       "      <td>Nike</td>\n",
       "      <td>178753</td>\n",
       "      <td>2</td>\n",
       "      <td>1Jan</td>\n",
       "      <td>357506</td>\n",
       "    </tr>\n",
       "    <tr>\n",
       "      <th>2</th>\n",
       "      <td>Puma</td>\n",
       "      <td>232576</td>\n",
       "      <td>4</td>\n",
       "      <td>1Jan</td>\n",
       "      <td>930304</td>\n",
       "    </tr>\n",
       "    <tr>\n",
       "      <th>3</th>\n",
       "      <td>Nike</td>\n",
       "      <td>151624</td>\n",
       "      <td>4</td>\n",
       "      <td>7Jul</td>\n",
       "      <td>606496</td>\n",
       "    </tr>\n",
       "    <tr>\n",
       "      <th>4</th>\n",
       "      <td>Puma</td>\n",
       "      <td>50712</td>\n",
       "      <td>2</td>\n",
       "      <td>6Jun</td>\n",
       "      <td>101424</td>\n",
       "    </tr>\n",
       "  </tbody>\n",
       "</table>\n",
       "</div>"
      ],
      "text/plain": [
       "  brand   price  qty month   total\n",
       "0  Nike  142056    3  4Apr  426168\n",
       "1  Nike  178753    2  1Jan  357506\n",
       "2  Puma  232576    4  1Jan  930304\n",
       "3  Nike  151624    4  7Jul  606496\n",
       "4  Puma   50712    2  6Jun  101424"
      ]
     },
     "execution_count": 7,
     "metadata": {},
     "output_type": "execute_result"
    }
   ],
   "source": [
    "df.head()"
   ]
  },
  {
   "cell_type": "code",
   "execution_count": 8,
   "id": "e3e2f04b",
   "metadata": {},
   "outputs": [],
   "source": [
    "order = df.pivot_table(index='month', columns='brand', values='total', aggfunc='sum')"
   ]
  },
  {
   "cell_type": "code",
   "execution_count": 9,
   "id": "f66ae0a3",
   "metadata": {},
   "outputs": [
    {
     "data": {
      "text/html": [
       "<div>\n",
       "<style scoped>\n",
       "    .dataframe tbody tr th:only-of-type {\n",
       "        vertical-align: middle;\n",
       "    }\n",
       "\n",
       "    .dataframe tbody tr th {\n",
       "        vertical-align: top;\n",
       "    }\n",
       "\n",
       "    .dataframe thead th {\n",
       "        text-align: right;\n",
       "    }\n",
       "</style>\n",
       "<table border=\"1\" class=\"dataframe\">\n",
       "  <thead>\n",
       "    <tr style=\"text-align: right;\">\n",
       "      <th>brand</th>\n",
       "      <th>Adidas</th>\n",
       "      <th>Nike</th>\n",
       "      <th>Puma</th>\n",
       "    </tr>\n",
       "    <tr>\n",
       "      <th>month</th>\n",
       "      <th></th>\n",
       "      <th></th>\n",
       "      <th></th>\n",
       "    </tr>\n",
       "  </thead>\n",
       "  <tbody>\n",
       "    <tr>\n",
       "      <th>1Jan</th>\n",
       "      <td>2069821.0</td>\n",
       "      <td>3226244.0</td>\n",
       "      <td>1186747.0</td>\n",
       "    </tr>\n",
       "    <tr>\n",
       "      <th>2Feb</th>\n",
       "      <td>1386738.0</td>\n",
       "      <td>519889.0</td>\n",
       "      <td>243201.0</td>\n",
       "    </tr>\n",
       "    <tr>\n",
       "      <th>3Mar</th>\n",
       "      <td>563640.0</td>\n",
       "      <td>1663282.0</td>\n",
       "      <td>1052111.0</td>\n",
       "    </tr>\n",
       "    <tr>\n",
       "      <th>4Apr</th>\n",
       "      <td>1533201.0</td>\n",
       "      <td>2829613.0</td>\n",
       "      <td>NaN</td>\n",
       "    </tr>\n",
       "    <tr>\n",
       "      <th>5May</th>\n",
       "      <td>2402595.0</td>\n",
       "      <td>3767960.0</td>\n",
       "      <td>2066679.0</td>\n",
       "    </tr>\n",
       "    <tr>\n",
       "      <th>6Jun</th>\n",
       "      <td>3244753.0</td>\n",
       "      <td>1115739.0</td>\n",
       "      <td>962420.0</td>\n",
       "    </tr>\n",
       "    <tr>\n",
       "      <th>7Jul</th>\n",
       "      <td>4929929.0</td>\n",
       "      <td>4733399.0</td>\n",
       "      <td>1980766.0</td>\n",
       "    </tr>\n",
       "  </tbody>\n",
       "</table>\n",
       "</div>"
      ],
      "text/plain": [
       "brand     Adidas       Nike       Puma\n",
       "month                                 \n",
       "1Jan   2069821.0  3226244.0  1186747.0\n",
       "2Feb   1386738.0   519889.0   243201.0\n",
       "3Mar    563640.0  1663282.0  1052111.0\n",
       "4Apr   1533201.0  2829613.0        NaN\n",
       "5May   2402595.0  3767960.0  2066679.0\n",
       "6Jun   3244753.0  1115739.0   962420.0\n",
       "7Jul   4929929.0  4733399.0  1980766.0"
      ]
     },
     "execution_count": 9,
     "metadata": {},
     "output_type": "execute_result"
    }
   ],
   "source": [
    "order"
   ]
  },
  {
   "cell_type": "code",
   "execution_count": 10,
   "id": "a57e37a1",
   "metadata": {},
   "outputs": [
    {
     "data": {
      "text/plain": [
       "Index(['1Jan', '2Feb', '3Mar', '4Apr', '5May', '6Jun', '7Jul'], dtype='object', name='month')"
      ]
     },
     "execution_count": 10,
     "metadata": {},
     "output_type": "execute_result"
    }
   ],
   "source": [
    "order.index"
   ]
  },
  {
   "cell_type": "markdown",
   "id": "dbf2f4be",
   "metadata": {},
   "source": [
    "# Line Plot"
   ]
  },
  {
   "cell_type": "code",
   "execution_count": 11,
   "id": "a44e2354",
   "metadata": {},
   "outputs": [],
   "source": [
    "x = order.index\n",
    "y1 = order.Puma\n",
    "y2 = order.Nike\n",
    "y3 = order.Adidas"
   ]
  },
  {
   "cell_type": "code",
   "execution_count": 12,
   "id": "abd14ef8",
   "metadata": {},
   "outputs": [
    {
     "data": {
      "image/png": "[encoded data removed]",
      "text/plain": [
       "<Figure size 720x288 with 1 Axes>"
      ]
     },
     "metadata": {
      "needs_background": "light"
     },
     "output_type": "display_data"
    }
   ],
   "source": [
    "fig = plt.figure(figsize=(10,4))\n",
    "ax = plt.axes()\n",
    "ax.plot(x, y1,'red', label=\"Puma\")\n",
    "ax.plot(x, y2,'blue', label=\"Nike\")\n",
    "ax.plot(x, y3,'green', label=\"Adidas\")\n",
    "\n",
    "plt.xlabel('Month')\n",
    "plt.ylabel('Total')\n",
    "\n",
    "plt.grid()\n",
    "plt.show()"
   ]
  },
  {
   "cell_type": "markdown",
   "id": "f4abb947",
   "metadata": {},
   "source": [
    "# Bar Chart "
   ]
  },
  {
   "cell_type": "code",
   "execution_count": 13,
   "id": "f3dc035c",
   "metadata": {},
   "outputs": [
    {
     "data": {
      "image/png": "[encoded data removed]",
      "text/plain": [
       "<Figure size 720x288 with 1 Axes>"
      ]
     },
     "metadata": {
      "needs_background": "light"
     },
     "output_type": "display_data"
    }
   ],
   "source": [
    "fig = plt.figure(figsize=(10,4))\n",
    "ax = plt.axes()\n",
    "width = 0.3\n",
    "\n",
    "x1 = np.arange(len(x))\n",
    "ax.bar(x1-width/2, y1, width=width, label='Brand Puma')\n",
    "ax.bar(x1+width/2, y2, width=width, label='Brand Nike')\n",
    "\n",
    "ax.set_xticks(x1)\n",
    "ax.set_xticklabels(x)\n",
    "\n",
    "plt.legend()\n",
    "plt.show()"
   ]
  },
  {
   "cell_type": "markdown",
   "id": "59f81f43",
   "metadata": {},
   "source": [
    "# Scatter Plot"
   ]
  },
  {
   "cell_type": "code",
   "execution_count": 19,
   "id": "03878cf5",
   "metadata": {},
   "outputs": [],
   "source": [
    "dc = {\n",
    "    'uts':[rd.choice(range(50,100)) for i in range(50)],\n",
    "    'uas':np.linspace(50,100,50)\n",
    "}"
   ]
  },
  {
   "cell_type": "code",
   "execution_count": 20,
   "id": "790da7f4",
   "metadata": {},
   "outputs": [],
   "source": [
    "df2 = pd.DataFrame(dc)"
   ]
  },
  {
   "cell_type": "code",
   "execution_count": 22,
   "id": "1d841892",
   "metadata": {},
   "outputs": [],
   "source": [
    "a = df2.uts\n",
    "b = df2.uas"
   ]
  },
  {
   "cell_type": "code",
   "execution_count": 23,
   "id": "158aa43a",
   "metadata": {},
   "outputs": [
    {
     "data": {
      "image/png": "[encoded data removed]",
      "text/plain": [
       "<Figure size 432x288 with 1 Axes>"
      ]
     },
     "metadata": {
      "needs_background": "light"
     },
     "output_type": "display_data"
    }
   ],
   "source": [
    "fig = plt.figure()\n",
    "plt.scatter(a, b)\n",
    "plt.grid()\n",
    "plt.xlabel('Nilai UTS')\n",
    "plt.ylabel('Nilai UAS')\n",
    "plt.title('Grafik persebaran Nilai UTS dan UAS')\n",
    "\n",
    "plt.show()"
   ]
  },
  {
   "cell_type": "code",
   "execution_count": null,
   "id": "cb7d5ee7",
   "metadata": {},
   "outputs": [],
   "source": []
  },
  {
   "cell_type": "code",
   "execution_count": null,
   "id": "c91eb5b3",
   "metadata": {},
   "outputs": [],
   "source": []
  }
 ],
 "metadata": {
  "kernelspec": {
   "display_name": "Python 3 (ipykernel)",
   "language": "python",
   "name": "python3"
  },
  "language_info": {
   "codemirror_mode": {
    "name": "ipython",
    "version": 3
   },
   "file_extension": ".py",
   "mimetype": "text/x-python",
   "name": "python",
   "nbconvert_exporter": "python",
   "pygments_lexer": "ipython3",
   "version": "3.9.7"
  }
 },
 "nbformat": 4,
 "nbformat_minor": 5
}
