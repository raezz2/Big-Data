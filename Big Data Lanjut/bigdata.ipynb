{
  "nbformat": 4,
  "nbformat_minor": 0,
  "metadata": {
    "colab": {
      "provenance": []
    },
    "kernelspec": {
      "name": "python3",
      "display_name": "Python 3"
    },
    "language_info": {
      "name": "python"
    }
  },
  "cells": [
    {
      "cell_type": "code",
      "execution_count": null,
      "metadata": {
        "colab": {
          "base_uri": "https://localhost:8080/"
        },
        "id": "t7N9Shrqrzse",
        "outputId": "59df3436-2f06-40b1-8fe4-c08bf981c7ab"
      },
      "outputs": [
        {
          "output_type": "stream",
          "name": "stdout",
          "text": [
            "Looking in indexes: https://pypi.org/simple, https://us-python.pkg.dev/colab-wheels/public/simple/\n",
            "Collecting pyspark\n",
            "  Downloading pyspark-3.3.1.tar.gz (281.4 MB)\n",
            "\u001b[2K     \u001b[90m━━━━━━━━━━━━━━━━━━━━━━━━━━━━━━━━━━━━━━━\u001b[0m \u001b[32m281.4/281.4 MB\u001b[0m \u001b[31m4.7 MB/s\u001b[0m eta \u001b[36m0:00:00\u001b[0m\n",
            "\u001b[?25h  Preparing metadata (setup.py) ... \u001b[?25l\u001b[?25hdone\n",
            "Collecting py4j==0.10.9.5\n",
            "  Downloading py4j-0.10.9.5-py2.py3-none-any.whl (199 kB)\n",
            "\u001b[2K     \u001b[90m━━━━━━━━━━━━━━━━━━━━━━━━━━━━━━━━━━━━━━\u001b[0m \u001b[32m199.7/199.7 KB\u001b[0m \u001b[31m23.2 MB/s\u001b[0m eta \u001b[36m0:00:00\u001b[0m\n",
            "\u001b[?25hBuilding wheels for collected packages: pyspark\n",
            "  Building wheel for pyspark (setup.py) ... \u001b[?25l\u001b[?25hdone\n",
            "  Created wheel for pyspark: filename=pyspark-3.3.1-py2.py3-none-any.whl size=281845512 sha256=a13eec4dd30fa60ecba20ac3be39fe5b32ff64add9b154db0b66a4c555fd5b13\n",
            "  Stored in directory: /root/.cache/pip/wheels/43/dc/11/ec201cd671da62fa9c5cc77078235e40722170ceba231d7598\n",
            "Successfully built pyspark\n",
            "Installing collected packages: py4j, pyspark\n",
            "Successfully installed py4j-0.10.9.5 pyspark-3.3.1\n"
          ]
        }
      ],
      "source": [
        "!pip install pyspark"
      ]
    },
    {
      "cell_type": "code",
      "source": [
        "from pyspark.ml.evaluation import RegressionEvaluator\n",
        "from pyspark.ml.recommendation import ALS\n",
        "from pyspark.sql import SparkSession\n",
        "from pyspark.sql.functions import isnan, when, count, col, cast, sum"
      ],
      "metadata": {
        "id": "3vKraahHr1LL"
      },
      "execution_count": null,
      "outputs": []
    },
    {
      "cell_type": "code",
      "source": [
        "# create a SparkSession\n",
        "spark = SparkSession.builder.appName(\"CollaborativeFiltering\").getOrCreate()"
      ],
      "metadata": {
        "id": "6zHpxFN0r2kJ"
      },
      "execution_count": null,
      "outputs": []
    },
    {
      "cell_type": "code",
      "source": [
        "# Read in the first CSV file\n",
        "movies = spark.read.csv(\"/content/movies.csv\", header=True, inferSchema=True)\n",
        "\n",
        "# Read in the second CSV file\n",
        "ratings = spark.read.csv(\"/content/ratings.csv\", header=True, inferSchema=True)\n",
        "\n",
        "# Join the two DataFrames on a common column\n",
        "#data = df1.join(df2, df1.movieId == df2.movieId).drop(df2.movieId)\n",
        "data = movies.join(ratings, on = 'movieId')\n",
        "\n",
        "# Do something with the joined DataFrame\n",
        "data.show()"
      ],
      "metadata": {
        "id": "srhRpZwhr4jm",
        "colab": {
          "base_uri": "https://localhost:8080/"
        },
        "outputId": "4a4192d5-bfaa-4bc5-ef95-94d2dc882ac8"
      },
      "execution_count": null,
      "outputs": [
        {
          "output_type": "stream",
          "name": "stdout",
          "text": [
            "+-------+--------------------+--------------------+------+------+---------+\n",
            "|movieId|               title|              genres|userId|rating|timestamp|\n",
            "+-------+--------------------+--------------------+------+------+---------+\n",
            "|      1|    Toy Story (1995)|Adventure|Animati...|     1|   4.0|964982703|\n",
            "|      3|Grumpier Old Men ...|      Comedy|Romance|     1|   4.0|964981247|\n",
            "|      6|         Heat (1995)|Action|Crime|Thri...|     1|   4.0|964982224|\n",
            "|     47|Seven (a.k.a. Se7...|    Mystery|Thriller|     1|   5.0|964983815|\n",
            "|     50|Usual Suspects, T...|Crime|Mystery|Thr...|     1|   5.0|964982931|\n",
            "|     70|From Dusk Till Da...|Action|Comedy|Hor...|     1|   3.0|964982400|\n",
            "|    101|Bottle Rocket (1996)|Adventure|Comedy|...|     1|   5.0|964980868|\n",
            "|    110|   Braveheart (1995)|    Action|Drama|War|     1|   4.0|964982176|\n",
            "|    151|      Rob Roy (1995)|Action|Drama|Roma...|     1|   5.0|964984041|\n",
            "|    157|Canadian Bacon (1...|          Comedy|War|     1|   5.0|964984100|\n",
            "|    163|    Desperado (1995)|Action|Romance|We...|     1|   5.0|964983650|\n",
            "|    216|Billy Madison (1995)|              Comedy|     1|   5.0|964981208|\n",
            "|    223|       Clerks (1994)|              Comedy|     1|   3.0|964980985|\n",
            "|    231|Dumb & Dumber (Du...|    Adventure|Comedy|     1|   5.0|964981179|\n",
            "|    235|      Ed Wood (1994)|        Comedy|Drama|     1|   4.0|964980908|\n",
            "|    260|Star Wars: Episod...|Action|Adventure|...|     1|   5.0|964981680|\n",
            "|    296| Pulp Fiction (1994)|Comedy|Crime|Dram...|     1|   3.0|964982967|\n",
            "|    316|     Stargate (1994)|Action|Adventure|...|     1|   3.0|964982310|\n",
            "|    333|    Tommy Boy (1995)|              Comedy|     1|   5.0|964981179|\n",
            "|    349|Clear and Present...|Action|Crime|Dram...|     1|   4.0|964982563|\n",
            "+-------+--------------------+--------------------+------+------+---------+\n",
            "only showing top 20 rows\n",
            "\n"
          ]
        }
      ]
    },
    {
      "cell_type": "code",
      "source": [
        "data.printSchema()"
      ],
      "metadata": {
        "id": "wX_NjyoKtG0N",
        "colab": {
          "base_uri": "https://localhost:8080/"
        },
        "outputId": "16443a81-3328-44b9-f063-44fecb3c1f7a"
      },
      "execution_count": null,
      "outputs": [
        {
          "output_type": "stream",
          "name": "stdout",
          "text": [
            "root\n",
            " |-- movieId: integer (nullable = true)\n",
            " |-- title: string (nullable = true)\n",
            " |-- genres: string (nullable = true)\n",
            " |-- userId: integer (nullable = true)\n",
            " |-- rating: double (nullable = true)\n",
            " |-- timestamp: integer (nullable = true)\n",
            "\n"
          ]
        }
      ]
    },
    {
      "cell_type": "code",
      "source": [
        "# handle NULL and NaN values in the data\n",
        "data = data.na.drop()"
      ],
      "metadata": {
        "id": "vaR8FnmptQ2Z"
      },
      "execution_count": null,
      "outputs": []
    },
    {
      "cell_type": "code",
      "source": [
        "# check if there are still any NULL or NaN values in the data\n",
        "null_count = data.select([count(when(isnan(c) | col(c).isNull(), c)).alias(c) for c in data.columns]).collect()\n",
        "print(null_count)"
      ],
      "metadata": {
        "id": "70dVjwR3vOas",
        "colab": {
          "base_uri": "https://localhost:8080/"
        },
        "outputId": "f2945575-019b-42db-e86a-9ed95853790a"
      },
      "execution_count": null,
      "outputs": [
        {
          "output_type": "stream",
          "name": "stdout",
          "text": [
            "[Row(movieId=0, title=0, genres=0, userId=0, rating=0, timestamp=0)]\n"
          ]
        }
      ]
    },
    {
      "cell_type": "code",
      "source": [
        "# split the data into training and test sets\n",
        "(training, test) = data.randomSplit([0.8, 0.2])"
      ],
      "metadata": {
        "id": "b0rb41khvSdI"
      },
      "execution_count": null,
      "outputs": []
    },
    {
      "cell_type": "code",
      "source": [
        "test.show(20,False)"
      ],
      "metadata": {
        "id": "m3p8eqCYvVfs",
        "colab": {
          "base_uri": "https://localhost:8080/"
        },
        "outputId": "16ad31f9-c631-43df-a5a8-52c7a9046153"
      },
      "execution_count": null,
      "outputs": [
        {
          "output_type": "stream",
          "name": "stdout",
          "text": [
            "+-------+----------------+-------------------------------------------+------+------+----------+\n",
            "|movieId|title           |genres                                     |userId|rating|timestamp |\n",
            "+-------+----------------+-------------------------------------------+------+------+----------+\n",
            "|1      |Toy Story (1995)|Adventure|Animation|Children|Comedy|Fantasy|18    |3.5   |1455209816|\n",
            "|1      |Toy Story (1995)|Adventure|Animation|Children|Comedy|Fantasy|19    |4.0   |965705637 |\n",
            "|1      |Toy Story (1995)|Adventure|Animation|Children|Comedy|Fantasy|21    |3.5   |1407618878|\n",
            "|1      |Toy Story (1995)|Adventure|Animation|Children|Comedy|Fantasy|31    |5.0   |850466616 |\n",
            "|1      |Toy Story (1995)|Adventure|Animation|Children|Comedy|Fantasy|50    |3.0   |1514238116|\n",
            "|1      |Toy Story (1995)|Adventure|Animation|Children|Comedy|Fantasy|71    |5.0   |864737933 |\n",
            "|1      |Toy Story (1995)|Adventure|Animation|Children|Comedy|Fantasy|78    |4.0   |1252575124|\n",
            "|1      |Toy Story (1995)|Adventure|Animation|Children|Comedy|Fantasy|86    |4.0   |1344082549|\n",
            "|1      |Toy Story (1995)|Adventure|Animation|Children|Comedy|Fantasy|89    |3.0   |1520408314|\n",
            "|1      |Toy Story (1995)|Adventure|Animation|Children|Comedy|Fantasy|93    |3.0   |942767337 |\n",
            "|1      |Toy Story (1995)|Adventure|Animation|Children|Comedy|Fantasy|96    |5.0   |964772990 |\n",
            "|1      |Toy Story (1995)|Adventure|Animation|Children|Comedy|Fantasy|119   |3.5   |1435942468|\n",
            "|1      |Toy Story (1995)|Adventure|Animation|Children|Comedy|Fantasy|132   |2.0   |1157921785|\n",
            "|1      |Toy Story (1995)|Adventure|Animation|Children|Comedy|Fantasy|141   |4.0   |1513130643|\n",
            "|1      |Toy Story (1995)|Adventure|Animation|Children|Comedy|Fantasy|159   |4.5   |1508640172|\n",
            "|1      |Toy Story (1995)|Adventure|Animation|Children|Comedy|Fantasy|161   |4.0   |1176751765|\n",
            "|1      |Toy Story (1995)|Adventure|Animation|Children|Comedy|Fantasy|171   |5.0   |866904159 |\n",
            "|1      |Toy Story (1995)|Adventure|Animation|Children|Comedy|Fantasy|178   |4.0   |1164354911|\n",
            "|1      |Toy Story (1995)|Adventure|Animation|Children|Comedy|Fantasy|186   |4.0   |1031080831|\n",
            "|1      |Toy Story (1995)|Adventure|Animation|Children|Comedy|Fantasy|202   |4.0   |974923506 |\n",
            "+-------+----------------+-------------------------------------------+------+------+----------+\n",
            "only showing top 20 rows\n",
            "\n"
          ]
        }
      ]
    },
    {
      "cell_type": "code",
      "source": [
        "# create the ALS model\n",
        "als = ALS(maxIter=5, regParam=0.01, userCol=\"userId\", itemCol=\"movieId\",\n",
        "          ratingCol=\"rating\")"
      ],
      "metadata": {
        "id": "OQUmvQEFvnP3"
      },
      "execution_count": null,
      "outputs": []
    },
    {
      "cell_type": "code",
      "source": [
        "# fit the model to the training data\n",
        "model = als.fit(training)"
      ],
      "metadata": {
        "id": "4Tt5S3nJvxD3"
      },
      "execution_count": null,
      "outputs": []
    },
    {
      "cell_type": "code",
      "source": [
        "# make predictions on the test data\n",
        "predictions = model.transform(test).filter(\"prediction >= 0\")"
      ],
      "metadata": {
        "id": "LHaNieUbv2RX"
      },
      "execution_count": 51,
      "outputs": []
    },
    {
      "cell_type": "code",
      "source": [
        "# evaluate the predictions\n",
        "evaluator = RegressionEvaluator(metricName=\"rmse\", labelCol=\"rating\",\n",
        "                                predictionCol=\"prediction\")\n",
        "rmse = evaluator.evaluate(predictions)\n",
        "print(\"Root-mean-square error = \" + str(rmse))"
      ],
      "metadata": {
        "id": "-NKPbYcMv5Ky",
        "colab": {
          "base_uri": "https://localhost:8080/"
        },
        "outputId": "05537049-a246-4c33-eff0-f0425e025349"
      },
      "execution_count": 46,
      "outputs": [
        {
          "output_type": "stream",
          "name": "stdout",
          "text": [
            "Root-mean-square error = 1.068018670373856\n"
          ]
        }
      ]
    },
    {
      "cell_type": "code",
      "source": [
        "#user the model to predict\n",
        "single_user = test.filter(test[\"userId\"] == 2)\n",
        "\n",
        "recommendations = model.transform(single_user)\n",
        "recommendations.show()"
      ],
      "metadata": {
        "id": "W2vq1q2dv9uS",
        "colab": {
          "base_uri": "https://localhost:8080/"
        },
        "outputId": "0c708d30-9edb-4bcc-f172-ba1ed9d24ecd"
      },
      "execution_count": 53,
      "outputs": [
        {
          "output_type": "stream",
          "name": "stdout",
          "text": [
            "+-------+--------------------+--------------------+------+------+----------+----------+\n",
            "|movieId|               title|              genres|userId|rating| timestamp|prediction|\n",
            "+-------+--------------------+--------------------+------+------+----------+----------+\n",
            "|    318|Shawshank Redempt...|         Crime|Drama|     2|   3.0|1445714835| 4.0287337|\n",
            "|  48516|Departed, The (2006)|Crime|Drama|Thriller|     2|   4.0|1445715064| 3.6442614|\n",
            "|  68157|Inglourious Baste...|    Action|Drama|War|     2|   4.5|1445715154|  3.525458|\n",
            "| 109487| Interstellar (2014)|         Sci-Fi|IMAX|     2|   3.0|1445715145|  4.221439|\n",
            "| 112552|     Whiplash (2014)|               Drama|     2|   4.0|1445714882| 3.5430045|\n",
            "+-------+--------------------+--------------------+------+------+----------+----------+\n",
            "\n"
          ]
        }
      ]
    }
  ]
}